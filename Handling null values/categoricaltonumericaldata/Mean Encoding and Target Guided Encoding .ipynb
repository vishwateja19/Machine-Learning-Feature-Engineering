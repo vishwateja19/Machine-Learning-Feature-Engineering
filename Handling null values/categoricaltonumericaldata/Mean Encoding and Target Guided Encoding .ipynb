{
 "cells": [
  {
   "cell_type": "code",
   "execution_count": 1,
   "id": "acb5c3a8",
   "metadata": {},
   "outputs": [],
   "source": [
    "import numpy as np\n",
    "import pandas as pd \n",
    "import matplotlib.pyplot as plt \n",
    "import seaborn as sns "
   ]
  },
  {
   "cell_type": "code",
   "execution_count": 2,
   "id": "85d2f23b",
   "metadata": {},
   "outputs": [],
   "source": [
    "df = pd.read_csv('./house_price.csv',usecols=['Neighborhood','Exterior1st','SalePrice'])\n"
   ]
  },
  {
   "cell_type": "code",
   "execution_count": 3,
   "id": "c5b64bd4",
   "metadata": {},
   "outputs": [
    {
     "data": {
      "text/html": [
       "<div>\n",
       "<style scoped>\n",
       "    .dataframe tbody tr th:only-of-type {\n",
       "        vertical-align: middle;\n",
       "    }\n",
       "\n",
       "    .dataframe tbody tr th {\n",
       "        vertical-align: top;\n",
       "    }\n",
       "\n",
       "    .dataframe thead th {\n",
       "        text-align: right;\n",
       "    }\n",
       "</style>\n",
       "<table border=\"1\" class=\"dataframe\">\n",
       "  <thead>\n",
       "    <tr style=\"text-align: right;\">\n",
       "      <th></th>\n",
       "      <th>Neighborhood</th>\n",
       "      <th>Exterior1st</th>\n",
       "      <th>SalePrice</th>\n",
       "    </tr>\n",
       "  </thead>\n",
       "  <tbody>\n",
       "    <tr>\n",
       "      <th>0</th>\n",
       "      <td>CollgCr</td>\n",
       "      <td>VinylSd</td>\n",
       "      <td>208500</td>\n",
       "    </tr>\n",
       "    <tr>\n",
       "      <th>1</th>\n",
       "      <td>Veenker</td>\n",
       "      <td>MetalSd</td>\n",
       "      <td>181500</td>\n",
       "    </tr>\n",
       "    <tr>\n",
       "      <th>2</th>\n",
       "      <td>CollgCr</td>\n",
       "      <td>VinylSd</td>\n",
       "      <td>223500</td>\n",
       "    </tr>\n",
       "    <tr>\n",
       "      <th>3</th>\n",
       "      <td>Crawfor</td>\n",
       "      <td>Wd Sdng</td>\n",
       "      <td>140000</td>\n",
       "    </tr>\n",
       "    <tr>\n",
       "      <th>4</th>\n",
       "      <td>NoRidge</td>\n",
       "      <td>VinylSd</td>\n",
       "      <td>250000</td>\n",
       "    </tr>\n",
       "    <tr>\n",
       "      <th>...</th>\n",
       "      <td>...</td>\n",
       "      <td>...</td>\n",
       "      <td>...</td>\n",
       "    </tr>\n",
       "    <tr>\n",
       "      <th>1455</th>\n",
       "      <td>Gilbert</td>\n",
       "      <td>VinylSd</td>\n",
       "      <td>175000</td>\n",
       "    </tr>\n",
       "    <tr>\n",
       "      <th>1456</th>\n",
       "      <td>NWAmes</td>\n",
       "      <td>Plywood</td>\n",
       "      <td>210000</td>\n",
       "    </tr>\n",
       "    <tr>\n",
       "      <th>1457</th>\n",
       "      <td>Crawfor</td>\n",
       "      <td>CemntBd</td>\n",
       "      <td>266500</td>\n",
       "    </tr>\n",
       "    <tr>\n",
       "      <th>1458</th>\n",
       "      <td>NAmes</td>\n",
       "      <td>MetalSd</td>\n",
       "      <td>142125</td>\n",
       "    </tr>\n",
       "    <tr>\n",
       "      <th>1459</th>\n",
       "      <td>Edwards</td>\n",
       "      <td>HdBoard</td>\n",
       "      <td>147500</td>\n",
       "    </tr>\n",
       "  </tbody>\n",
       "</table>\n",
       "<p>1460 rows × 3 columns</p>\n",
       "</div>"
      ],
      "text/plain": [
       "     Neighborhood Exterior1st  SalePrice\n",
       "0         CollgCr     VinylSd     208500\n",
       "1         Veenker     MetalSd     181500\n",
       "2         CollgCr     VinylSd     223500\n",
       "3         Crawfor     Wd Sdng     140000\n",
       "4         NoRidge     VinylSd     250000\n",
       "...           ...         ...        ...\n",
       "1455      Gilbert     VinylSd     175000\n",
       "1456       NWAmes     Plywood     210000\n",
       "1457      Crawfor     CemntBd     266500\n",
       "1458        NAmes     MetalSd     142125\n",
       "1459      Edwards     HdBoard     147500\n",
       "\n",
       "[1460 rows x 3 columns]"
      ]
     },
     "execution_count": 3,
     "metadata": {},
     "output_type": "execute_result"
    }
   ],
   "source": [
    "df"
   ]
  },
  {
   "cell_type": "code",
   "execution_count": 4,
   "id": "c7f71cdc",
   "metadata": {},
   "outputs": [],
   "source": [
    "from sklearn.model_selection import train_test_split"
   ]
  },
  {
   "cell_type": "code",
   "execution_count": 5,
   "id": "5c1023e6",
   "metadata": {},
   "outputs": [],
   "source": [
    "X = df.iloc[: , :]\n",
    "y = df.iloc[: , -1]"
   ]
  },
  {
   "cell_type": "code",
   "execution_count": 6,
   "id": "0bbba8e2",
   "metadata": {},
   "outputs": [],
   "source": [
    "X_train, X_test, y_train, y_test = train_test_split(X, y, test_size=0.33, random_state=42)"
   ]
  },
  {
   "cell_type": "code",
   "execution_count": 7,
   "id": "2e57ac93",
   "metadata": {},
   "outputs": [
    {
     "data": {
      "text/html": [
       "<div>\n",
       "<style scoped>\n",
       "    .dataframe tbody tr th:only-of-type {\n",
       "        vertical-align: middle;\n",
       "    }\n",
       "\n",
       "    .dataframe tbody tr th {\n",
       "        vertical-align: top;\n",
       "    }\n",
       "\n",
       "    .dataframe thead th {\n",
       "        text-align: right;\n",
       "    }\n",
       "</style>\n",
       "<table border=\"1\" class=\"dataframe\">\n",
       "  <thead>\n",
       "    <tr style=\"text-align: right;\">\n",
       "      <th></th>\n",
       "      <th>Neighborhood</th>\n",
       "      <th>Exterior1st</th>\n",
       "      <th>SalePrice</th>\n",
       "    </tr>\n",
       "  </thead>\n",
       "  <tbody>\n",
       "    <tr>\n",
       "      <th>615</th>\n",
       "      <td>NAmes</td>\n",
       "      <td>MetalSd</td>\n",
       "      <td>137500</td>\n",
       "    </tr>\n",
       "    <tr>\n",
       "      <th>613</th>\n",
       "      <td>Mitchel</td>\n",
       "      <td>VinylSd</td>\n",
       "      <td>147000</td>\n",
       "    </tr>\n",
       "    <tr>\n",
       "      <th>1303</th>\n",
       "      <td>Somerst</td>\n",
       "      <td>VinylSd</td>\n",
       "      <td>232000</td>\n",
       "    </tr>\n",
       "    <tr>\n",
       "      <th>486</th>\n",
       "      <td>NAmes</td>\n",
       "      <td>MetalSd</td>\n",
       "      <td>156000</td>\n",
       "    </tr>\n",
       "    <tr>\n",
       "      <th>561</th>\n",
       "      <td>Mitchel</td>\n",
       "      <td>HdBoard</td>\n",
       "      <td>170000</td>\n",
       "    </tr>\n",
       "    <tr>\n",
       "      <th>...</th>\n",
       "      <td>...</td>\n",
       "      <td>...</td>\n",
       "      <td>...</td>\n",
       "    </tr>\n",
       "    <tr>\n",
       "      <th>1095</th>\n",
       "      <td>CollgCr</td>\n",
       "      <td>VinylSd</td>\n",
       "      <td>176432</td>\n",
       "    </tr>\n",
       "    <tr>\n",
       "      <th>1130</th>\n",
       "      <td>SWISU</td>\n",
       "      <td>WdShing</td>\n",
       "      <td>135000</td>\n",
       "    </tr>\n",
       "    <tr>\n",
       "      <th>1294</th>\n",
       "      <td>Edwards</td>\n",
       "      <td>WdShing</td>\n",
       "      <td>115000</td>\n",
       "    </tr>\n",
       "    <tr>\n",
       "      <th>860</th>\n",
       "      <td>Crawfor</td>\n",
       "      <td>Wd Sdng</td>\n",
       "      <td>189950</td>\n",
       "    </tr>\n",
       "    <tr>\n",
       "      <th>1126</th>\n",
       "      <td>Blmngtn</td>\n",
       "      <td>VinylSd</td>\n",
       "      <td>174000</td>\n",
       "    </tr>\n",
       "  </tbody>\n",
       "</table>\n",
       "<p>978 rows × 3 columns</p>\n",
       "</div>"
      ],
      "text/plain": [
       "     Neighborhood Exterior1st  SalePrice\n",
       "615         NAmes     MetalSd     137500\n",
       "613       Mitchel     VinylSd     147000\n",
       "1303      Somerst     VinylSd     232000\n",
       "486         NAmes     MetalSd     156000\n",
       "561       Mitchel     HdBoard     170000\n",
       "...           ...         ...        ...\n",
       "1095      CollgCr     VinylSd     176432\n",
       "1130        SWISU     WdShing     135000\n",
       "1294      Edwards     WdShing     115000\n",
       "860       Crawfor     Wd Sdng     189950\n",
       "1126      Blmngtn     VinylSd     174000\n",
       "\n",
       "[978 rows x 3 columns]"
      ]
     },
     "execution_count": 7,
     "metadata": {},
     "output_type": "execute_result"
    }
   ],
   "source": [
    "X_train"
   ]
  },
  {
   "cell_type": "code",
   "execution_count": 8,
   "id": "f61d0ac3",
   "metadata": {},
   "outputs": [
    {
     "data": {
      "text/plain": [
       "Neighborhood\n",
       "Blmngtn    192309.692308\n",
       "Blueste    124000.000000\n",
       "BrDale     102208.333333\n",
       "BrkSide    119879.487179\n",
       "ClearCr    225194.444444\n",
       "CollgCr    201224.069307\n",
       "Crawfor    213999.648649\n",
       "Edwards    130500.933333\n",
       "Gilbert    199134.640000\n",
       "IDOTRR     103945.833333\n",
       "MeadowV    101890.000000\n",
       "Mitchel    158516.242424\n",
       "NAmes      148104.597315\n",
       "NPkVill    147125.000000\n",
       "NWAmes     189225.588235\n",
       "NoRidge    313633.629630\n",
       "NridgHt    310738.780000\n",
       "OldTown    132457.912500\n",
       "SWISU      139098.857143\n",
       "Sawyer     138186.363636\n",
       "SawyerW    177444.361111\n",
       "Somerst    221914.111111\n",
       "StoneBr    301427.052632\n",
       "Timber     238072.703704\n",
       "Veenker    249687.500000\n",
       "Name: SalePrice, dtype: float64"
      ]
     },
     "execution_count": 8,
     "metadata": {},
     "output_type": "execute_result"
    }
   ],
   "source": [
    "a = X_train.groupby([\"Neighborhood\"])['SalePrice'].mean()\n",
    "a"
   ]
  },
  {
   "cell_type": "code",
   "execution_count": 9,
   "id": "1b673f88",
   "metadata": {},
   "outputs": [
    {
     "data": {
      "text/plain": [
       "{'Blmngtn': 192309.6923076923,\n",
       " 'Blueste': 124000.0,\n",
       " 'BrDale': 102208.33333333333,\n",
       " 'BrkSide': 119879.48717948717,\n",
       " 'ClearCr': 225194.44444444444,\n",
       " 'CollgCr': 201224.0693069307,\n",
       " 'Crawfor': 213999.64864864864,\n",
       " 'Edwards': 130500.93333333333,\n",
       " 'Gilbert': 199134.64,\n",
       " 'IDOTRR': 103945.83333333333,\n",
       " 'MeadowV': 101890.0,\n",
       " 'Mitchel': 158516.24242424243,\n",
       " 'NAmes': 148104.59731543623,\n",
       " 'NPkVill': 147125.0,\n",
       " 'NWAmes': 189225.58823529413,\n",
       " 'NoRidge': 313633.6296296296,\n",
       " 'NridgHt': 310738.78,\n",
       " 'OldTown': 132457.9125,\n",
       " 'SWISU': 139098.85714285713,\n",
       " 'Sawyer': 138186.36363636365,\n",
       " 'SawyerW': 177444.36111111112,\n",
       " 'Somerst': 221914.11111111112,\n",
       " 'StoneBr': 301427.05263157893,\n",
       " 'Timber': 238072.7037037037,\n",
       " 'Veenker': 249687.5}"
      ]
     },
     "execution_count": 9,
     "metadata": {},
     "output_type": "execute_result"
    }
   ],
   "source": [
    "b = a.to_dict()\n",
    "b"
   ]
  },
  {
   "cell_type": "code",
   "execution_count": 10,
   "id": "699046c8",
   "metadata": {},
   "outputs": [
    {
     "name": "stderr",
     "output_type": "stream",
     "text": [
      "C:\\Users\\korla\\AppData\\Local\\Temp/ipykernel_4328/3132250800.py:1: SettingWithCopyWarning: \n",
      "A value is trying to be set on a copy of a slice from a DataFrame.\n",
      "Try using .loc[row_indexer,col_indexer] = value instead\n",
      "\n",
      "See the caveats in the documentation: https://pandas.pydata.org/pandas-docs/stable/user_guide/indexing.html#returning-a-view-versus-a-copy\n",
      "  X_train[\"Neighborhood\"] = X_train[\"Neighborhood\"].map(b)\n"
     ]
    }
   ],
   "source": [
    "X_train[\"Neighborhood\"] = X_train[\"Neighborhood\"].map(b)"
   ]
  },
  {
   "cell_type": "code",
   "execution_count": 11,
   "id": "04d04066",
   "metadata": {},
   "outputs": [
    {
     "data": {
      "text/html": [
       "<div>\n",
       "<style scoped>\n",
       "    .dataframe tbody tr th:only-of-type {\n",
       "        vertical-align: middle;\n",
       "    }\n",
       "\n",
       "    .dataframe tbody tr th {\n",
       "        vertical-align: top;\n",
       "    }\n",
       "\n",
       "    .dataframe thead th {\n",
       "        text-align: right;\n",
       "    }\n",
       "</style>\n",
       "<table border=\"1\" class=\"dataframe\">\n",
       "  <thead>\n",
       "    <tr style=\"text-align: right;\">\n",
       "      <th></th>\n",
       "      <th>Neighborhood</th>\n",
       "      <th>Exterior1st</th>\n",
       "      <th>SalePrice</th>\n",
       "    </tr>\n",
       "  </thead>\n",
       "  <tbody>\n",
       "    <tr>\n",
       "      <th>615</th>\n",
       "      <td>148104.597315</td>\n",
       "      <td>MetalSd</td>\n",
       "      <td>137500</td>\n",
       "    </tr>\n",
       "    <tr>\n",
       "      <th>613</th>\n",
       "      <td>158516.242424</td>\n",
       "      <td>VinylSd</td>\n",
       "      <td>147000</td>\n",
       "    </tr>\n",
       "    <tr>\n",
       "      <th>1303</th>\n",
       "      <td>221914.111111</td>\n",
       "      <td>VinylSd</td>\n",
       "      <td>232000</td>\n",
       "    </tr>\n",
       "    <tr>\n",
       "      <th>486</th>\n",
       "      <td>148104.597315</td>\n",
       "      <td>MetalSd</td>\n",
       "      <td>156000</td>\n",
       "    </tr>\n",
       "    <tr>\n",
       "      <th>561</th>\n",
       "      <td>158516.242424</td>\n",
       "      <td>HdBoard</td>\n",
       "      <td>170000</td>\n",
       "    </tr>\n",
       "    <tr>\n",
       "      <th>...</th>\n",
       "      <td>...</td>\n",
       "      <td>...</td>\n",
       "      <td>...</td>\n",
       "    </tr>\n",
       "    <tr>\n",
       "      <th>1095</th>\n",
       "      <td>201224.069307</td>\n",
       "      <td>VinylSd</td>\n",
       "      <td>176432</td>\n",
       "    </tr>\n",
       "    <tr>\n",
       "      <th>1130</th>\n",
       "      <td>139098.857143</td>\n",
       "      <td>WdShing</td>\n",
       "      <td>135000</td>\n",
       "    </tr>\n",
       "    <tr>\n",
       "      <th>1294</th>\n",
       "      <td>130500.933333</td>\n",
       "      <td>WdShing</td>\n",
       "      <td>115000</td>\n",
       "    </tr>\n",
       "    <tr>\n",
       "      <th>860</th>\n",
       "      <td>213999.648649</td>\n",
       "      <td>Wd Sdng</td>\n",
       "      <td>189950</td>\n",
       "    </tr>\n",
       "    <tr>\n",
       "      <th>1126</th>\n",
       "      <td>192309.692308</td>\n",
       "      <td>VinylSd</td>\n",
       "      <td>174000</td>\n",
       "    </tr>\n",
       "  </tbody>\n",
       "</table>\n",
       "<p>978 rows × 3 columns</p>\n",
       "</div>"
      ],
      "text/plain": [
       "       Neighborhood Exterior1st  SalePrice\n",
       "615   148104.597315     MetalSd     137500\n",
       "613   158516.242424     VinylSd     147000\n",
       "1303  221914.111111     VinylSd     232000\n",
       "486   148104.597315     MetalSd     156000\n",
       "561   158516.242424     HdBoard     170000\n",
       "...             ...         ...        ...\n",
       "1095  201224.069307     VinylSd     176432\n",
       "1130  139098.857143     WdShing     135000\n",
       "1294  130500.933333     WdShing     115000\n",
       "860   213999.648649     Wd Sdng     189950\n",
       "1126  192309.692308     VinylSd     174000\n",
       "\n",
       "[978 rows x 3 columns]"
      ]
     },
     "execution_count": 11,
     "metadata": {},
     "output_type": "execute_result"
    }
   ],
   "source": [
    "X_train"
   ]
  },
  {
   "cell_type": "code",
   "execution_count": 12,
   "id": "dd81bab6",
   "metadata": {},
   "outputs": [
    {
     "name": "stderr",
     "output_type": "stream",
     "text": [
      "C:\\Users\\korla\\AppData\\Local\\Temp/ipykernel_4328/4021248350.py:1: SettingWithCopyWarning: \n",
      "A value is trying to be set on a copy of a slice from a DataFrame.\n",
      "Try using .loc[row_indexer,col_indexer] = value instead\n",
      "\n",
      "See the caveats in the documentation: https://pandas.pydata.org/pandas-docs/stable/user_guide/indexing.html#returning-a-view-versus-a-copy\n",
      "  X_test[\"Neighborhood\"] = X_test[\"Neighborhood\"].map(b)\n"
     ]
    }
   ],
   "source": [
    "X_test[\"Neighborhood\"] = X_test[\"Neighborhood\"].map(b)"
   ]
  },
  {
   "cell_type": "code",
   "execution_count": 13,
   "id": "7663d5d3",
   "metadata": {},
   "outputs": [
    {
     "data": {
      "text/html": [
       "<div>\n",
       "<style scoped>\n",
       "    .dataframe tbody tr th:only-of-type {\n",
       "        vertical-align: middle;\n",
       "    }\n",
       "\n",
       "    .dataframe tbody tr th {\n",
       "        vertical-align: top;\n",
       "    }\n",
       "\n",
       "    .dataframe thead th {\n",
       "        text-align: right;\n",
       "    }\n",
       "</style>\n",
       "<table border=\"1\" class=\"dataframe\">\n",
       "  <thead>\n",
       "    <tr style=\"text-align: right;\">\n",
       "      <th></th>\n",
       "      <th>Neighborhood</th>\n",
       "      <th>Exterior1st</th>\n",
       "      <th>SalePrice</th>\n",
       "    </tr>\n",
       "  </thead>\n",
       "  <tbody>\n",
       "    <tr>\n",
       "      <th>892</th>\n",
       "      <td>138186.363636</td>\n",
       "      <td>HdBoard</td>\n",
       "      <td>154500</td>\n",
       "    </tr>\n",
       "    <tr>\n",
       "      <th>1105</th>\n",
       "      <td>313633.629630</td>\n",
       "      <td>HdBoard</td>\n",
       "      <td>325000</td>\n",
       "    </tr>\n",
       "    <tr>\n",
       "      <th>413</th>\n",
       "      <td>132457.912500</td>\n",
       "      <td>WdShing</td>\n",
       "      <td>115000</td>\n",
       "    </tr>\n",
       "    <tr>\n",
       "      <th>522</th>\n",
       "      <td>119879.487179</td>\n",
       "      <td>CemntBd</td>\n",
       "      <td>159000</td>\n",
       "    </tr>\n",
       "    <tr>\n",
       "      <th>1036</th>\n",
       "      <td>238072.703704</td>\n",
       "      <td>VinylSd</td>\n",
       "      <td>315500</td>\n",
       "    </tr>\n",
       "    <tr>\n",
       "      <th>...</th>\n",
       "      <td>...</td>\n",
       "      <td>...</td>\n",
       "      <td>...</td>\n",
       "    </tr>\n",
       "    <tr>\n",
       "      <th>1010</th>\n",
       "      <td>138186.363636</td>\n",
       "      <td>Wd Sdng</td>\n",
       "      <td>135000</td>\n",
       "    </tr>\n",
       "    <tr>\n",
       "      <th>390</th>\n",
       "      <td>130500.933333</td>\n",
       "      <td>MetalSd</td>\n",
       "      <td>119000</td>\n",
       "    </tr>\n",
       "    <tr>\n",
       "      <th>1409</th>\n",
       "      <td>189225.588235</td>\n",
       "      <td>Plywood</td>\n",
       "      <td>215000</td>\n",
       "    </tr>\n",
       "    <tr>\n",
       "      <th>847</th>\n",
       "      <td>201224.069307</td>\n",
       "      <td>HdBoard</td>\n",
       "      <td>133500</td>\n",
       "    </tr>\n",
       "    <tr>\n",
       "      <th>1284</th>\n",
       "      <td>139098.857143</td>\n",
       "      <td>Wd Sdng</td>\n",
       "      <td>169000</td>\n",
       "    </tr>\n",
       "  </tbody>\n",
       "</table>\n",
       "<p>482 rows × 3 columns</p>\n",
       "</div>"
      ],
      "text/plain": [
       "       Neighborhood Exterior1st  SalePrice\n",
       "892   138186.363636     HdBoard     154500\n",
       "1105  313633.629630     HdBoard     325000\n",
       "413   132457.912500     WdShing     115000\n",
       "522   119879.487179     CemntBd     159000\n",
       "1036  238072.703704     VinylSd     315500\n",
       "...             ...         ...        ...\n",
       "1010  138186.363636     Wd Sdng     135000\n",
       "390   130500.933333     MetalSd     119000\n",
       "1409  189225.588235     Plywood     215000\n",
       "847   201224.069307     HdBoard     133500\n",
       "1284  139098.857143     Wd Sdng     169000\n",
       "\n",
       "[482 rows x 3 columns]"
      ]
     },
     "execution_count": 13,
     "metadata": {},
     "output_type": "execute_result"
    }
   ],
   "source": [
    "X_test"
   ]
  },
  {
   "cell_type": "markdown",
   "id": "20479b18",
   "metadata": {},
   "source": [
    "## Target Guided Encoding "
   ]
  },
  {
   "cell_type": "code",
   "execution_count": 15,
   "id": "e4241cd2",
   "metadata": {},
   "outputs": [
    {
     "data": {
      "text/plain": [
       "<AxesSubplot:xlabel='Exterior1st'>"
      ]
     },
     "execution_count": 15,
     "metadata": {},
     "output_type": "execute_result"
    },
    {
     "data": {
      "image/png": "[encoded data removed]",
      "text/plain": [
       "<Figure size 432x288 with 1 Axes>"
      ]
     },
     "metadata": {
      "needs_background": "light"
     },
     "output_type": "display_data"
    }
   ],
   "source": [
    "X_train.groupby([\"Exterior1st\"])['SalePrice'].mean().plot()"
   ]
  },
  {
   "cell_type": "code",
   "execution_count": 16,
   "id": "c0dd87bc",
   "metadata": {},
   "outputs": [
    {
     "data": {
      "text/plain": [
       "Exterior1st\n",
       "AsbShng    112426.666667\n",
       "AsphShn    100000.000000\n",
       "BrkComm     82000.000000\n",
       "BrkFace    211124.242424\n",
       "CBlock     105000.000000\n",
       "CemntBd    235642.666667\n",
       "HdBoard    159823.785235\n",
       "MetalSd    151124.324138\n",
       "Plywood    179982.924242\n",
       "Stone      230000.000000\n",
       "Stucco     185793.277778\n",
       "VinylSd    212076.332394\n",
       "Wd Sdng    144906.381295\n",
       "WdShing    154956.666667\n",
       "Name: SalePrice, dtype: float64"
      ]
     },
     "execution_count": 16,
     "metadata": {},
     "output_type": "execute_result"
    }
   ],
   "source": [
    "q = X_train.groupby([\"Exterior1st\"])['SalePrice'].mean()\n",
    "q"
   ]
  },
  {
   "cell_type": "code",
   "execution_count": 19,
   "id": "66f3ec4a",
   "metadata": {},
   "outputs": [
    {
     "data": {
      "text/plain": [
       "Exterior1st\n",
       "BrkComm     82000.000000\n",
       "AsphShn    100000.000000\n",
       "CBlock     105000.000000\n",
       "AsbShng    112426.666667\n",
       "Wd Sdng    144906.381295\n",
       "MetalSd    151124.324138\n",
       "WdShing    154956.666667\n",
       "HdBoard    159823.785235\n",
       "Plywood    179982.924242\n",
       "Stucco     185793.277778\n",
       "BrkFace    211124.242424\n",
       "VinylSd    212076.332394\n",
       "Stone      230000.000000\n",
       "CemntBd    235642.666667\n",
       "Name: SalePrice, dtype: float64"
      ]
     },
     "execution_count": 19,
     "metadata": {},
     "output_type": "execute_result"
    }
   ],
   "source": [
    "q = X_train.groupby([\"Exterior1st\"])['SalePrice'].mean().sort_values(ascending = True)\n",
    "q"
   ]
  },
  {
   "cell_type": "code",
   "execution_count": 20,
   "id": "6b36f55e",
   "metadata": {},
   "outputs": [
    {
     "data": {
      "text/plain": [
       "Index(['BrkComm', 'AsphShn', 'CBlock', 'AsbShng', 'Wd Sdng', 'MetalSd',\n",
       "       'WdShing', 'HdBoard', 'Plywood', 'Stucco', 'BrkFace', 'VinylSd',\n",
       "       'Stone', 'CemntBd'],\n",
       "      dtype='object', name='Exterior1st')"
      ]
     },
     "execution_count": 20,
     "metadata": {},
     "output_type": "execute_result"
    }
   ],
   "source": [
    "q = X_train.groupby([\"Exterior1st\"])['SalePrice'].mean().sort_values(ascending = True).index\n",
    "q"
   ]
  },
  {
   "cell_type": "code",
   "execution_count": 21,
   "id": "ca9b3f66",
   "metadata": {},
   "outputs": [],
   "source": [
    "g = {j:i for i,j in enumerate(q , 0)}"
   ]
  },
  {
   "cell_type": "code",
   "execution_count": 22,
   "id": "a5a8d187",
   "metadata": {},
   "outputs": [
    {
     "data": {
      "text/plain": [
       "{'BrkComm': 0,\n",
       " 'AsphShn': 1,\n",
       " 'CBlock': 2,\n",
       " 'AsbShng': 3,\n",
       " 'Wd Sdng': 4,\n",
       " 'MetalSd': 5,\n",
       " 'WdShing': 6,\n",
       " 'HdBoard': 7,\n",
       " 'Plywood': 8,\n",
       " 'Stucco': 9,\n",
       " 'BrkFace': 10,\n",
       " 'VinylSd': 11,\n",
       " 'Stone': 12,\n",
       " 'CemntBd': 13}"
      ]
     },
     "execution_count": 22,
     "metadata": {},
     "output_type": "execute_result"
    }
   ],
   "source": [
    "g"
   ]
  },
  {
   "cell_type": "code",
   "execution_count": 23,
   "id": "eff09cf8",
   "metadata": {},
   "outputs": [
    {
     "name": "stderr",
     "output_type": "stream",
     "text": [
      "C:\\Users\\korla\\AppData\\Local\\Temp/ipykernel_4328/2965378514.py:1: SettingWithCopyWarning: \n",
      "A value is trying to be set on a copy of a slice from a DataFrame.\n",
      "Try using .loc[row_indexer,col_indexer] = value instead\n",
      "\n",
      "See the caveats in the documentation: https://pandas.pydata.org/pandas-docs/stable/user_guide/indexing.html#returning-a-view-versus-a-copy\n",
      "  X_train[\"Exterior1st\"] = X_train[\"Exterior1st\"].map(g)\n"
     ]
    }
   ],
   "source": [
    "X_train[\"Exterior1st\"] = X_train[\"Exterior1st\"].map(g)"
   ]
  },
  {
   "cell_type": "code",
   "execution_count": 24,
   "id": "535b44e0",
   "metadata": {},
   "outputs": [
    {
     "data": {
      "text/html": [
       "<div>\n",
       "<style scoped>\n",
       "    .dataframe tbody tr th:only-of-type {\n",
       "        vertical-align: middle;\n",
       "    }\n",
       "\n",
       "    .dataframe tbody tr th {\n",
       "        vertical-align: top;\n",
       "    }\n",
       "\n",
       "    .dataframe thead th {\n",
       "        text-align: right;\n",
       "    }\n",
       "</style>\n",
       "<table border=\"1\" class=\"dataframe\">\n",
       "  <thead>\n",
       "    <tr style=\"text-align: right;\">\n",
       "      <th></th>\n",
       "      <th>Neighborhood</th>\n",
       "      <th>Exterior1st</th>\n",
       "      <th>SalePrice</th>\n",
       "    </tr>\n",
       "  </thead>\n",
       "  <tbody>\n",
       "    <tr>\n",
       "      <th>615</th>\n",
       "      <td>148104.597315</td>\n",
       "      <td>5</td>\n",
       "      <td>137500</td>\n",
       "    </tr>\n",
       "    <tr>\n",
       "      <th>613</th>\n",
       "      <td>158516.242424</td>\n",
       "      <td>11</td>\n",
       "      <td>147000</td>\n",
       "    </tr>\n",
       "    <tr>\n",
       "      <th>1303</th>\n",
       "      <td>221914.111111</td>\n",
       "      <td>11</td>\n",
       "      <td>232000</td>\n",
       "    </tr>\n",
       "    <tr>\n",
       "      <th>486</th>\n",
       "      <td>148104.597315</td>\n",
       "      <td>5</td>\n",
       "      <td>156000</td>\n",
       "    </tr>\n",
       "    <tr>\n",
       "      <th>561</th>\n",
       "      <td>158516.242424</td>\n",
       "      <td>7</td>\n",
       "      <td>170000</td>\n",
       "    </tr>\n",
       "    <tr>\n",
       "      <th>...</th>\n",
       "      <td>...</td>\n",
       "      <td>...</td>\n",
       "      <td>...</td>\n",
       "    </tr>\n",
       "    <tr>\n",
       "      <th>1095</th>\n",
       "      <td>201224.069307</td>\n",
       "      <td>11</td>\n",
       "      <td>176432</td>\n",
       "    </tr>\n",
       "    <tr>\n",
       "      <th>1130</th>\n",
       "      <td>139098.857143</td>\n",
       "      <td>6</td>\n",
       "      <td>135000</td>\n",
       "    </tr>\n",
       "    <tr>\n",
       "      <th>1294</th>\n",
       "      <td>130500.933333</td>\n",
       "      <td>6</td>\n",
       "      <td>115000</td>\n",
       "    </tr>\n",
       "    <tr>\n",
       "      <th>860</th>\n",
       "      <td>213999.648649</td>\n",
       "      <td>4</td>\n",
       "      <td>189950</td>\n",
       "    </tr>\n",
       "    <tr>\n",
       "      <th>1126</th>\n",
       "      <td>192309.692308</td>\n",
       "      <td>11</td>\n",
       "      <td>174000</td>\n",
       "    </tr>\n",
       "  </tbody>\n",
       "</table>\n",
       "<p>978 rows × 3 columns</p>\n",
       "</div>"
      ],
      "text/plain": [
       "       Neighborhood  Exterior1st  SalePrice\n",
       "615   148104.597315            5     137500\n",
       "613   158516.242424           11     147000\n",
       "1303  221914.111111           11     232000\n",
       "486   148104.597315            5     156000\n",
       "561   158516.242424            7     170000\n",
       "...             ...          ...        ...\n",
       "1095  201224.069307           11     176432\n",
       "1130  139098.857143            6     135000\n",
       "1294  130500.933333            6     115000\n",
       "860   213999.648649            4     189950\n",
       "1126  192309.692308           11     174000\n",
       "\n",
       "[978 rows x 3 columns]"
      ]
     },
     "execution_count": 24,
     "metadata": {},
     "output_type": "execute_result"
    }
   ],
   "source": [
    "X_train"
   ]
  },
  {
   "cell_type": "code",
   "execution_count": 25,
   "id": "69d22f41",
   "metadata": {},
   "outputs": [
    {
     "name": "stderr",
     "output_type": "stream",
     "text": [
      "C:\\Users\\korla\\AppData\\Local\\Temp/ipykernel_4328/3722187084.py:1: SettingWithCopyWarning: \n",
      "A value is trying to be set on a copy of a slice from a DataFrame.\n",
      "Try using .loc[row_indexer,col_indexer] = value instead\n",
      "\n",
      "See the caveats in the documentation: https://pandas.pydata.org/pandas-docs/stable/user_guide/indexing.html#returning-a-view-versus-a-copy\n",
      "  X_test[\"Exterior1st\"] = X_test[\"Exterior1st\"].map(g)\n"
     ]
    }
   ],
   "source": [
    "X_test[\"Exterior1st\"] = X_test[\"Exterior1st\"].map(g)"
   ]
  },
  {
   "cell_type": "code",
   "execution_count": 26,
   "id": "d9529767",
   "metadata": {},
   "outputs": [
    {
     "data": {
      "text/html": [
       "<div>\n",
       "<style scoped>\n",
       "    .dataframe tbody tr th:only-of-type {\n",
       "        vertical-align: middle;\n",
       "    }\n",
       "\n",
       "    .dataframe tbody tr th {\n",
       "        vertical-align: top;\n",
       "    }\n",
       "\n",
       "    .dataframe thead th {\n",
       "        text-align: right;\n",
       "    }\n",
       "</style>\n",
       "<table border=\"1\" class=\"dataframe\">\n",
       "  <thead>\n",
       "    <tr style=\"text-align: right;\">\n",
       "      <th></th>\n",
       "      <th>Neighborhood</th>\n",
       "      <th>Exterior1st</th>\n",
       "      <th>SalePrice</th>\n",
       "    </tr>\n",
       "  </thead>\n",
       "  <tbody>\n",
       "    <tr>\n",
       "      <th>892</th>\n",
       "      <td>138186.363636</td>\n",
       "      <td>7.0</td>\n",
       "      <td>154500</td>\n",
       "    </tr>\n",
       "    <tr>\n",
       "      <th>1105</th>\n",
       "      <td>313633.629630</td>\n",
       "      <td>7.0</td>\n",
       "      <td>325000</td>\n",
       "    </tr>\n",
       "    <tr>\n",
       "      <th>413</th>\n",
       "      <td>132457.912500</td>\n",
       "      <td>6.0</td>\n",
       "      <td>115000</td>\n",
       "    </tr>\n",
       "    <tr>\n",
       "      <th>522</th>\n",
       "      <td>119879.487179</td>\n",
       "      <td>13.0</td>\n",
       "      <td>159000</td>\n",
       "    </tr>\n",
       "    <tr>\n",
       "      <th>1036</th>\n",
       "      <td>238072.703704</td>\n",
       "      <td>11.0</td>\n",
       "      <td>315500</td>\n",
       "    </tr>\n",
       "    <tr>\n",
       "      <th>...</th>\n",
       "      <td>...</td>\n",
       "      <td>...</td>\n",
       "      <td>...</td>\n",
       "    </tr>\n",
       "    <tr>\n",
       "      <th>1010</th>\n",
       "      <td>138186.363636</td>\n",
       "      <td>4.0</td>\n",
       "      <td>135000</td>\n",
       "    </tr>\n",
       "    <tr>\n",
       "      <th>390</th>\n",
       "      <td>130500.933333</td>\n",
       "      <td>5.0</td>\n",
       "      <td>119000</td>\n",
       "    </tr>\n",
       "    <tr>\n",
       "      <th>1409</th>\n",
       "      <td>189225.588235</td>\n",
       "      <td>8.0</td>\n",
       "      <td>215000</td>\n",
       "    </tr>\n",
       "    <tr>\n",
       "      <th>847</th>\n",
       "      <td>201224.069307</td>\n",
       "      <td>7.0</td>\n",
       "      <td>133500</td>\n",
       "    </tr>\n",
       "    <tr>\n",
       "      <th>1284</th>\n",
       "      <td>139098.857143</td>\n",
       "      <td>4.0</td>\n",
       "      <td>169000</td>\n",
       "    </tr>\n",
       "  </tbody>\n",
       "</table>\n",
       "<p>482 rows × 3 columns</p>\n",
       "</div>"
      ],
      "text/plain": [
       "       Neighborhood  Exterior1st  SalePrice\n",
       "892   138186.363636          7.0     154500\n",
       "1105  313633.629630          7.0     325000\n",
       "413   132457.912500          6.0     115000\n",
       "522   119879.487179         13.0     159000\n",
       "1036  238072.703704         11.0     315500\n",
       "...             ...          ...        ...\n",
       "1010  138186.363636          4.0     135000\n",
       "390   130500.933333          5.0     119000\n",
       "1409  189225.588235          8.0     215000\n",
       "847   201224.069307          7.0     133500\n",
       "1284  139098.857143          4.0     169000\n",
       "\n",
       "[482 rows x 3 columns]"
      ]
     },
     "execution_count": 26,
     "metadata": {},
     "output_type": "execute_result"
    }
   ],
   "source": [
    "X_test"
   ]
  },
  {
   "cell_type": "code",
   "execution_count": null,
   "id": "834a7487",
   "metadata": {},
   "outputs": [],
   "source": []
  }
 ],
 "metadata": {
  "kernelspec": {
   "display_name": "Python 3 (ipykernel)",
   "language": "python",
   "name": "python3"
  },
  "language_info": {
   "codemirror_mode": {
    "name": "ipython",
    "version": 3
   },
   "file_extension": ".py",
   "mimetype": "text/x-python",
   "name": "python",
   "nbconvert_exporter": "python",
   "pygments_lexer": "ipython3",
   "version": "3.9.7"
  }
 },
 "nbformat": 4,
 "nbformat_minor": 5
}
