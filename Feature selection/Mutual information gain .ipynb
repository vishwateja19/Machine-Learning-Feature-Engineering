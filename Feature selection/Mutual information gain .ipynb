{
 "cells": [
  {
   "cell_type": "code",
   "execution_count": 1,
   "id": "1c565215",
   "metadata": {},
   "outputs": [],
   "source": [
    "import numpy as np\n",
    "import pandas as pd \n",
    "import matplotlib.pyplot as plt \n",
    "from sklearn.model_selection import train_test_split\n"
   ]
  },
  {
   "cell_type": "code",
   "execution_count": 2,
   "id": "ac2872f4",
   "metadata": {},
   "outputs": [
    {
     "data": {
      "text/plain": [
       "(50000, 109)"
      ]
     },
     "execution_count": 2,
     "metadata": {},
     "output_type": "execute_result"
    }
   ],
   "source": [
    "data = pd.read_csv('dataset_2.csv')\n",
    "data.shape"
   ]
  },
  {
   "cell_type": "code",
   "execution_count": 3,
   "id": "ba67d070",
   "metadata": {},
   "outputs": [
    {
     "data": {
      "text/plain": [
       "((35000, 108), (15000, 108))"
      ]
     },
     "execution_count": 3,
     "metadata": {},
     "output_type": "execute_result"
    }
   ],
   "source": [
    "X_train, X_test, y_train, y_test = train_test_split(\n",
    "    data.drop(labels=['target'], axis=1),\n",
    "    data['target'],\n",
    "    test_size=0.3,\n",
    "    random_state=0)\n",
    "\n",
    "X_train.shape, X_test.shape"
   ]
  },
  {
   "cell_type": "code",
   "execution_count": 4,
   "id": "fadb04d4",
   "metadata": {},
   "outputs": [],
   "source": [
    "from sklearn.feature_selection import mutual_info_classif"
   ]
  },
  {
   "cell_type": "code",
   "execution_count": 5,
   "id": "7e803ae3",
   "metadata": {},
   "outputs": [],
   "source": [
    "reg = mutual_info_classif(X_train,y_train)"
   ]
  },
  {
   "cell_type": "code",
   "execution_count": 6,
   "id": "8999df22",
   "metadata": {},
   "outputs": [
    {
     "data": {
      "text/plain": [
       "array([0.00000000e+00, 3.68037797e-03, 0.00000000e+00, 8.67576676e-04,\n",
       "       4.95872263e-04, 5.16540220e-03, 5.12931079e-03, 2.83769697e-03,\n",
       "       0.00000000e+00, 6.85860640e-05, 6.40838597e-04, 9.85117057e-04,\n",
       "       7.38999512e-04, 5.17114799e-03, 0.00000000e+00, 1.64665814e-02,\n",
       "       0.00000000e+00, 0.00000000e+00, 3.24550020e-04, 0.00000000e+00,\n",
       "       3.97314147e-03, 0.00000000e+00, 0.00000000e+00, 0.00000000e+00,\n",
       "       0.00000000e+00, 0.00000000e+00, 0.00000000e+00, 0.00000000e+00,\n",
       "       1.71954992e-03, 1.51142913e-03, 0.00000000e+00, 0.00000000e+00,\n",
       "       4.67567533e-03, 1.68495801e-02, 0.00000000e+00, 2.19674867e-03,\n",
       "       0.00000000e+00, 1.92590136e-03, 3.83359092e-04, 0.00000000e+00,\n",
       "       0.00000000e+00, 0.00000000e+00, 0.00000000e+00, 3.16641900e-03,\n",
       "       1.76661530e-03, 2.09146803e-03, 0.00000000e+00, 5.66141967e-03,\n",
       "       0.00000000e+00, 3.11186485e-04, 0.00000000e+00, 2.91731174e-03,\n",
       "       0.00000000e+00, 3.21830707e-03, 4.07239327e-02, 1.56108549e-03,\n",
       "       3.38691940e-03, 0.00000000e+00, 0.00000000e+00, 2.54098381e-03,\n",
       "       0.00000000e+00, 0.00000000e+00, 1.09399244e-03, 0.00000000e+00,\n",
       "       3.66865049e-03, 0.00000000e+00, 0.00000000e+00, 1.72462163e-02,\n",
       "       0.00000000e+00, 7.81513724e-05, 9.68909071e-05, 4.61704014e-03,\n",
       "       2.54591089e-03, 1.07081615e-03, 1.42681252e-03, 3.17777202e-04,\n",
       "       4.42539660e-03, 0.00000000e+00, 3.49882750e-03, 2.51330674e-03,\n",
       "       1.36767125e-03, 0.00000000e+00, 0.00000000e+00, 0.00000000e+00,\n",
       "       3.73633525e-03, 0.00000000e+00, 0.00000000e+00, 0.00000000e+00,\n",
       "       3.26951820e-03, 7.39642132e-04, 2.37666922e-03, 0.00000000e+00,\n",
       "       1.15284964e-03, 1.34319404e-03, 7.34267019e-03, 2.87430886e-03,\n",
       "       3.32612164e-03, 5.41992437e-04, 3.84530807e-03, 2.55682975e-03,\n",
       "       3.07828005e-03, 2.67641830e-03, 4.04052402e-04, 0.00000000e+00,\n",
       "       1.96546300e-03, 0.00000000e+00, 1.89548908e-02, 0.00000000e+00])"
      ]
     },
     "execution_count": 6,
     "metadata": {},
     "output_type": "execute_result"
    }
   ],
   "source": [
    "reg"
   ]
  },
  {
   "cell_type": "code",
   "execution_count": 9,
   "id": "5e2e487a",
   "metadata": {},
   "outputs": [
    {
     "data": {
      "text/plain": [
       "Text(0, 0.5, 'values')"
      ]
     },
     "execution_count": 9,
     "metadata": {},
     "output_type": "execute_result"
    },
    {
     "data": {
      "image/png": "[encoded data removed]",
      "text/plain": [
       "<Figure size 1440x504 with 1 Axes>"
      ]
     },
     "metadata": {
      "needs_background": "light"
     },
     "output_type": "display_data"
    }
   ],
   "source": [
    "sol = pd.Series(reg)\n",
    "sol.index = X_train.columns\n",
    "sol.sort_values(ascending=False).plot.bar(figsize = (20,7))\n",
    "plt.ylabel('values')"
   ]
  },
  {
   "cell_type": "code",
   "execution_count": 10,
   "id": "fb5ab7a3",
   "metadata": {},
   "outputs": [],
   "source": [
    "# using selectkbest we can get top categories "
   ]
  },
  {
   "cell_type": "code",
   "execution_count": 11,
   "id": "8dc4fe20",
   "metadata": {},
   "outputs": [],
   "source": [
    "from sklearn.feature_selection import SelectKBest"
   ]
  },
  {
   "cell_type": "code",
   "execution_count": 13,
   "id": "5b9661db",
   "metadata": {},
   "outputs": [],
   "source": [
    "sel = SelectKBest(mutual_info_classif,k = 10).fit(X_train,y_train)"
   ]
  },
  {
   "cell_type": "code",
   "execution_count": 16,
   "id": "d9dbe457",
   "metadata": {},
   "outputs": [
    {
     "data": {
      "text/plain": [
       "Index(['var_6', 'var_7', 'var_14', 'var_16', 'var_34', 'var_48', 'var_55',\n",
       "       'var_69', 'var_96', 'var_108'],\n",
       "      dtype='object')"
      ]
     },
     "execution_count": 16,
     "metadata": {},
     "output_type": "execute_result"
    }
   ],
   "source": [
    "X_train.columns[sel.get_support()]"
   ]
  },
  {
   "cell_type": "code",
   "execution_count": 17,
   "id": "4fb10d9d",
   "metadata": {},
   "outputs": [],
   "source": [
    "X_train = sel.transform(X_train)"
   ]
  },
  {
   "cell_type": "code",
   "execution_count": 18,
   "id": "b4a57593",
   "metadata": {},
   "outputs": [],
   "source": [
    "X_test = sel.transform(X_test)"
   ]
  },
  {
   "cell_type": "code",
   "execution_count": 25,
   "id": "7c9fb7f8",
   "metadata": {},
   "outputs": [
    {
     "data": {
      "text/plain": [
       "108"
      ]
     },
     "execution_count": 25,
     "metadata": {},
     "output_type": "execute_result"
    }
   ],
   "source": [
    "sel.n_features_in_"
   ]
  },
  {
   "cell_type": "code",
   "execution_count": 46,
   "id": "615c5371",
   "metadata": {},
   "outputs": [],
   "source": [
    "X_train = pd.DataFrame(X_train,columns = ['var_6', 'var_7', 'var_14', 'var_16', 'var_34', 'var_48', 'var_55',\n",
    "       'var_69', 'var_96', 'var_108'])"
   ]
  },
  {
   "cell_type": "code",
   "execution_count": 48,
   "id": "fbc7d4f5",
   "metadata": {},
   "outputs": [],
   "source": [
    "### for Regression use same but put mutual_info_regression and in place of k put percentiles , cool simple "
   ]
  },
  {
   "cell_type": "code",
   "execution_count": 49,
   "id": "fea8fa1f",
   "metadata": {},
   "outputs": [],
   "source": [
    "## null values should not be there"
   ]
  },
  {
   "cell_type": "code",
   "execution_count": null,
   "id": "c1cb9472",
   "metadata": {},
   "outputs": [],
   "source": []
  }
 ],
 "metadata": {
  "kernelspec": {
   "display_name": "Python 3 (ipykernel)",
   "language": "python",
   "name": "python3"
  },
  "language_info": {
   "codemirror_mode": {
    "name": "ipython",
    "version": 3
   },
   "file_extension": ".py",
   "mimetype": "text/x-python",
   "name": "python",
   "nbconvert_exporter": "python",
   "pygments_lexer": "ipython3",
   "version": "3.8.12"
  }
 },
 "nbformat": 4,
 "nbformat_minor": 5
}
